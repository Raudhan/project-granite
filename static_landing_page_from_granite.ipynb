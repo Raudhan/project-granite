{
  "nbformat": 4,
  "nbformat_minor": 0,
  "metadata": {
    "colab": {
      "provenance": []
    },
    "kernelspec": {
      "name": "python3",
      "display_name": "Python 3"
    },
    "language_info": {
      "name": "python"
    }
  },
  "cells": [
    {
      "cell_type": "code",
      "execution_count": 19,
      "metadata": {
        "id": "BuCLe17Z8YkH"
      },
      "outputs": [],
      "source": [
        "html_code = \"\"\"\n",
        "<!DOCTYPE html>\n",
        "<html lang=\"en\">\n",
        "<head>\n",
        "  <meta charset=\"UTF-8\" />\n",
        "  <meta name=\"viewport\" content=\"width=device-width, initial-scale=1.0\"/>\n",
        "  <title>AI Innovators</title>\n",
        "  <style>\n",
        "    body {\n",
        "      font-family: 'Segoe UI', sans-serif;\n",
        "      margin: 0;\n",
        "      padding: 0;\n",
        "      background: linear-gradient(135deg, #0f2027, #203a43, #2c5364); /* gradient gelap */\n",
        "      color: white;\n",
        "    }\n",
        "    header {\n",
        "      background-color: transparent;\n",
        "      padding: 20px 40px;\n",
        "      text-align: center;\n",
        "    }\n",
        "    .hero {\n",
        "      text-align: center;\n",
        "      padding: 100px 20px 50px;\n",
        "    }\n",
        "    .hero h1 {\n",
        "      font-size: 48px;\n",
        "      margin-bottom: 10px;\n",
        "    }\n",
        "    .hero p {\n",
        "      font-size: 20px;\n",
        "      opacity: 0.8;\n",
        "    }\n",
        "    .cta-wrapper {\n",
        "      text-align: center;\n",
        "      margin-bottom: 100px;\n",
        "    }\n",
        "    .cta-button {\n",
        "      display: inline-block;\n",
        "      padding: 15px 30px;\n",
        "      background-color: #00b894; /* hijau toska */\n",
        "      color: white;\n",
        "      text-decoration: none;\n",
        "      border: none;\n",
        "      border-radius: 8px;\n",
        "      font-size: 18px;\n",
        "      cursor: pointer;\n",
        "      transition: background-color 0.3s ease;\n",
        "    }\n",
        "    .cta-button:hover {\n",
        "      background-color: #019875;\n",
        "    }\n",
        "    footer {\n",
        "      text-align: center;\n",
        "      padding: 20px;\n",
        "      background-color: #111;\n",
        "      font-size: 14px;\n",
        "      color: #ccc;\n",
        "    }\n",
        "  </style>\n",
        "</head>\n",
        "<body>\n",
        "  <header>\n",
        "    <h2>AI Innovators</h2>\n",
        "  </header>\n",
        "\n",
        "  <section class=\"hero\">\n",
        "    <h1>The Future Starts Here</h1>\n",
        "    <p>We develop AI solutions that shape the future of the digital world.</p>\n",
        "  </section>\n",
        "\n",
        "  <div class=\"cta-wrapper\">\n",
        "    <button class=\"cta-button\">Join now</button>\n",
        "  </div>\n",
        "\n",
        "  <footer>\n",
        "    &copy; 2025 AI Innovators. All rights reserved.\n",
        "  </footer>\n",
        "</body>\n",
        "</html>\n",
        "\"\"\""
      ]
    },
    {
      "cell_type": "code",
      "source": [
        "with open(\"index.html\", \"w\") as f:\n",
        "    f.write(html_code)\n",
        "\n",
        "print(\"✅ File index.html berhasil dibuat!\")"
      ],
      "metadata": {
        "colab": {
          "base_uri": "https://localhost:8080/"
        },
        "id": "RuDpaqXC81SA",
        "outputId": "85ab192b-2a66-4574-eac4-11831c9d8eb0"
      },
      "execution_count": 20,
      "outputs": [
        {
          "output_type": "stream",
          "name": "stdout",
          "text": [
            "✅ File index.html berhasil dibuat!\n"
          ]
        }
      ]
    },
    {
      "cell_type": "code",
      "source": [
        "from google.colab import files\n",
        "files.download(\"index.html\")\n"
      ],
      "metadata": {
        "colab": {
          "base_uri": "https://localhost:8080/",
          "height": 17
        },
        "id": "UcGhc55J9Ik3",
        "outputId": "a783cfe3-5ebd-4b93-cd52-ea0fe825b3f7"
      },
      "execution_count": 21,
      "outputs": [
        {
          "output_type": "display_data",
          "data": {
            "text/plain": [
              "<IPython.core.display.Javascript object>"
            ],
            "application/javascript": [
              "\n",
              "    async function download(id, filename, size) {\n",
              "      if (!google.colab.kernel.accessAllowed) {\n",
              "        return;\n",
              "      }\n",
              "      const div = document.createElement('div');\n",
              "      const label = document.createElement('label');\n",
              "      label.textContent = `Downloading \"${filename}\": `;\n",
              "      div.appendChild(label);\n",
              "      const progress = document.createElement('progress');\n",
              "      progress.max = size;\n",
              "      div.appendChild(progress);\n",
              "      document.body.appendChild(div);\n",
              "\n",
              "      const buffers = [];\n",
              "      let downloaded = 0;\n",
              "\n",
              "      const channel = await google.colab.kernel.comms.open(id);\n",
              "      // Send a message to notify the kernel that we're ready.\n",
              "      channel.send({})\n",
              "\n",
              "      for await (const message of channel.messages) {\n",
              "        // Send a message to notify the kernel that we're ready.\n",
              "        channel.send({})\n",
              "        if (message.buffers) {\n",
              "          for (const buffer of message.buffers) {\n",
              "            buffers.push(buffer);\n",
              "            downloaded += buffer.byteLength;\n",
              "            progress.value = downloaded;\n",
              "          }\n",
              "        }\n",
              "      }\n",
              "      const blob = new Blob(buffers, {type: 'application/binary'});\n",
              "      const a = document.createElement('a');\n",
              "      a.href = window.URL.createObjectURL(blob);\n",
              "      a.download = filename;\n",
              "      div.appendChild(a);\n",
              "      a.click();\n",
              "      div.remove();\n",
              "    }\n",
              "  "
            ]
          },
          "metadata": {}
        },
        {
          "output_type": "display_data",
          "data": {
            "text/plain": [
              "<IPython.core.display.Javascript object>"
            ],
            "application/javascript": [
              "download(\"download_dccd6e61-98d0-4f90-b352-c23e543b6625\", \"index.html\", 1713)"
            ]
          },
          "metadata": {}
        }
      ]
    }
  ]
}